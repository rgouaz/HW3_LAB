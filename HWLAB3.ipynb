{
  "nbformat": 4,
  "nbformat_minor": 0,
  "metadata": {
    "colab": {
      "provenance": [],
      "gpuType": "T4"
    },
    "kernelspec": {
      "name": "python3",
      "display_name": "Python 3"
    },
    "language_info": {
      "name": "python"
    },
    "accelerator": "GPU"
  },
  "cells": [
    {
      "cell_type": "code",
      "execution_count": 1,
      "metadata": {
        "colab": {
          "base_uri": "https://localhost:8080/",
          "height": 0
        },
        "id": "jmX1jO5OrK6U",
        "outputId": "b5e12a93-7aca-4baf-f5e3-2c80fe325020"
      },
      "outputs": [
        {
          "output_type": "stream",
          "name": "stdout",
          "text": [
            "2.0.1+cu118\n"
          ]
        }
      ],
      "source": [
        "!python -c \"import torch; print(torch.__version__)\""
      ]
    },
    {
      "cell_type": "code",
      "source": [
        "!python -c \"import torch; print(torch.version.cuda)\""
      ],
      "metadata": {
        "id": "0A83oOWorfNb",
        "colab": {
          "base_uri": "https://localhost:8080/",
          "height": 0
        },
        "outputId": "17431d01-697d-4a78-a324-c5b0c2070968"
      },
      "execution_count": 2,
      "outputs": [
        {
          "output_type": "stream",
          "name": "stdout",
          "text": [
            "11.8\n"
          ]
        }
      ]
    },
    {
      "cell_type": "code",
      "source": [
        "!export TORCH=2.0.1+cu118\n",
        "!export CUDA=11.8"
      ],
      "metadata": {
        "id": "k22vjb4xsv_v"
      },
      "execution_count": 3,
      "outputs": []
    },
    {
      "cell_type": "code",
      "source": [
        "!pip install torch-geometric"
      ],
      "metadata": {
        "id": "URzBKBSks3VN"
      },
      "execution_count": null,
      "outputs": []
    },
    {
      "cell_type": "code",
      "source": [
        "from google.colab import drive\n",
        "drive.mount('/content/gdrive')\n",
        "GDRIVE_DIR = \"/content/gdrive/My Drive/HW3\""
      ],
      "metadata": {
        "colab": {
          "base_uri": "https://localhost:8080/",
          "height": 0
        },
        "id": "slUX1e0es85x",
        "outputId": "907a165a-71e7-42b9-b912-e4d3f8a7d45d"
      },
      "execution_count": 5,
      "outputs": [
        {
          "output_type": "stream",
          "name": "stdout",
          "text": [
            "Mounted at /content/gdrive\n"
          ]
        }
      ]
    },
    {
      "cell_type": "code",
      "source": [
        "#%%\n",
        "import requests\n",
        "import os\n",
        "from torch_geometric.data import Dataset\n",
        "import torch\n",
        "\n",
        "\n",
        "class HW3Dataset(Dataset):\n",
        "    url = 'https://technionmail-my.sharepoint.com/:u:/g/personal/ploznik_campus_technion_ac_il/EUHUDSoVnitIrEA6ALsAK1QBpphP5jX3OmGyZAgnbUFo0A?download=1'\n",
        "\n",
        "    def __init__(self, root, transform=None, pre_transform=None):\n",
        "        super(HW3Dataset, self).__init__(root, transform, pre_transform)\n",
        "\n",
        "    @property\n",
        "    def raw_file_names(self):\n",
        "        return ['data.pt']\n",
        "\n",
        "    @property\n",
        "    def processed_file_names(self):\n",
        "        return ['data.pt']\n",
        "\n",
        "    def download(self):\n",
        "        file_url = self.url.replace(' ', '%20')\n",
        "        response = requests.get(file_url)\n",
        "\n",
        "        if response.status_code != 200:\n",
        "            raise Exception(f\"Failed to download the file, status code: {response.status_code}\")\n",
        "\n",
        "        with open(os.path.join(self.raw_dir, self.raw_file_names[0]), 'wb') as f:\n",
        "            f.write(response.content)\n",
        "\n",
        "    def process(self):\n",
        "        raw_path = os.path.join(self.raw_dir, self.raw_file_names[0])\n",
        "        data = torch.load(raw_path)\n",
        "        torch.save(data, self.processed_paths[0])\n",
        "\n",
        "    def len(self):\n",
        "        return 1\n",
        "\n",
        "    def get(self, idx):\n",
        "        return torch.load(self.processed_paths[0])\n",
        "\n",
        "\n",
        "if __name__ == '__main__':\n",
        "    dataset = HW3Dataset(root='GDRIVE_DIR')\n",
        "    data = dataset[0]\n",
        "    print(data)\n",
        "\n",
        "\n",
        "# %%\n"
      ],
      "metadata": {
        "colab": {
          "base_uri": "https://localhost:8080/",
          "height": 0
        },
        "id": "NcQusVnztXC1",
        "outputId": "0cdbcdec-2d7e-4c54-eea4-fb779d0ca837"
      },
      "execution_count": 5,
      "outputs": [
        {
          "output_type": "stream",
          "name": "stdout",
          "text": [
            "Data(x=[100000, 128], edge_index=[2, 444288], y=[100000, 1], node_year=[100000, 1], train_mask=[80000], val_mask=[20000])\n"
          ]
        }
      ]
    },
    {
      "cell_type": "code",
      "source": [
        "import torch\n",
        "from torch.nn import functional as F\n",
        "from torch_geometric.nn import GATConv\n",
        "\n",
        "class SimpleGAT(torch.nn.Module):\n",
        "    def __init__(self, in_dim, hidden_dim, out_dim, num_heads):\n",
        "        super(SimpleGAT, self).__init__()\n",
        "        self.conv1 = GATConv(in_dim, hidden_dim, heads=num_heads)\n",
        "        # On the final layer we set concat to False, meaning we just take the average\n",
        "        self.conv2 = GATConv(hidden_dim * num_heads, out_dim, concat=False)\n",
        "\n",
        "    def forward(self, data):\n",
        "        x, edge_index = data.x, data.edge_index\n",
        "        x = self.conv1(x, edge_index)\n",
        "        x = F.relu(x)\n",
        "        x = self.conv2(x, edge_index)\n",
        "        return F.log_softmax(x, dim=1)\n"
      ],
      "metadata": {
        "id": "mab5-xnhvE5E"
      },
      "execution_count": 6,
      "outputs": []
    },
    {
      "cell_type": "code",
      "source": [
        "device = torch.device('cuda' if torch.cuda.is_available() else 'cpu')\n",
        "\n",
        "# Move the data to GPU\n",
        "data = dataset[0].to(device)\n",
        "import torch.nn.functional as F\n",
        "\n",
        "# Instantiate the model with the simple GAT we defined\n",
        "model = SimpleGAT(in_dim=128, hidden_dim=64, out_dim=dataset.num_classes, num_heads=6)\n",
        "# Move the model to GPU\n",
        "model = model.to(device)\n",
        "\n",
        "# We use Adam as the optimizer\n",
        "optimizer = torch.optim.Adam(model.parameters(), lr=0.01, weight_decay=5e-4)\n",
        "\n",
        "# Lists for storing loss and accuracy\n",
        "train_loss = []\n",
        "val_loss = []\n",
        "train_acc = []\n",
        "val_acc = []\n",
        "\n",
        "# Training\n",
        "model.train()\n",
        "for epoch in range(200):\n",
        "    optimizer.zero_grad()\n",
        "    out = model(data)\n",
        "    target = data.y[data.train_mask].squeeze()\n",
        "    loss = F.nll_loss(out[data.train_mask], target)\n",
        "    loss.backward()\n",
        "    optimizer.step()\n",
        "\n",
        "    # Store training loss\n",
        "    train_loss.append(loss.item())\n",
        "\n",
        "    # Calculate and store training accuracy\n",
        "    _, pred = out[data.train_mask].max(dim=1)\n",
        "    correct = float(pred.eq(target).sum().item())\n",
        "    acc = correct / target.size(0)\n",
        "    train_acc.append(acc)\n",
        "\n",
        "    # Validation\n",
        "    model.eval()\n",
        "    with torch.no_grad():\n",
        "        out = model(data)\n",
        "        target = data.y[data.val_mask].squeeze()\n",
        "        loss = F.nll_loss(out[data.val_mask], target)\n",
        "\n",
        "        # Store validation loss\n",
        "        val_loss.append(loss.item())\n",
        "\n",
        "        # Calculate and store validation accuracy\n",
        "        _, pred = out[data.val_mask].max(dim=1)\n",
        "        correct = float(pred.eq(target).sum().item())\n",
        "        acc = correct / target.size(0)\n",
        "        val_acc.append(acc)\n",
        "\n",
        "    # Switch back to training mode\n",
        "    model.train()\n"
      ],
      "metadata": {
        "id": "CBeVxSUEvPEa"
      },
      "execution_count": null,
      "outputs": []
    },
    {
      "cell_type": "code",
      "source": [
        "model.eval()\n",
        "\n",
        "with torch.no_grad():\n",
        "    out = model(data)\n",
        "    # Here we squeeze the target tensor\n",
        "    target = data.y[data.val_mask].squeeze()\n",
        "\n",
        "    # Get the predictions\n",
        "    _, pred = out[data.val_mask].max(dim=1)\n",
        "\n",
        "    # Calculate the accuracy\n",
        "    correct = float (pred.eq(target).sum().item())\n",
        "    acc = correct / target.size(0)\n",
        "\n",
        "print('Test Accuracy:', acc)\n"
      ],
      "metadata": {
        "colab": {
          "base_uri": "https://localhost:8080/",
          "height": 0
        },
        "id": "9hzwcd7rvUUd",
        "outputId": "bd399c45-0008-4805-df0f-24514116e5cc"
      },
      "execution_count": 8,
      "outputs": [
        {
          "output_type": "stream",
          "name": "stdout",
          "text": [
            "Test Accuracy: 0.5816\n"
          ]
        }
      ]
    },
    {
      "cell_type": "code",
      "source": [
        "torch.save(model.state_dict(), 'my_model.pt')"
      ],
      "metadata": {
        "id": "EErYBvWOMA74"
      },
      "execution_count": 9,
      "outputs": []
    },
    {
      "cell_type": "code",
      "source": [
        "import matplotlib.pyplot as plt\n",
        "\n",
        "def plot_metrics(train_loss, val_loss, train_acc, val_acc):\n",
        "    epochs = range(1, len(train_loss) + 1)\n",
        "\n",
        "    plt.figure(figsize=(12, 5))\n",
        "\n",
        "    plt.subplot(1, 2, 1)\n",
        "    plt.plot(epochs, train_loss, 'g', label='Training Loss')\n",
        "    plt.plot(epochs, val_loss, 'b', label='Validation Loss')\n",
        "    plt.title('Training and Validation Loss')\n",
        "    plt.xlabel('Epochs')\n",
        "    plt.ylabel('Loss')\n",
        "    plt.legend()\n",
        "\n",
        "    plt.subplot(1, 2, 2)\n",
        "    plt.plot(epochs, train_acc, 'g', label='Training Accuracy')\n",
        "    plt.plot(epochs, val_acc, 'b', label='Validation Accuracy')\n",
        "    plt.title('Training and Validation Accuracy')\n",
        "    plt.xlabel('Epochs')\n",
        "    plt.ylabel('Accuracy')\n",
        "    plt.legend()\n",
        "\n",
        "    plt.tight_layout()\n",
        "    plt.show()\n",
        "\n",
        "plot_metrics(train_loss, val_loss, train_acc, val_acc)\n"
      ],
      "metadata": {
        "colab": {
          "base_uri": "https://localhost:8080/",
          "height": 507
        },
        "id": "1FHnd6c2KMFW",
        "outputId": "42c505fa-5c83-49d3-9922-22b79714ef6c"
      },
      "execution_count": 10,
      "outputs": [
        {
          "output_type": "display_data",
          "data": {
            "text/plain": [
              "<Figure size 1200x500 with 2 Axes>"
            ],
            "image/png": "[encoded data removed]"
          },
          "metadata": {}
        }
      ]
    },
    {
      "cell_type": "markdown",
      "source": [
        "# Three-Layer GAT:"
      ],
      "metadata": {
        "id": "4ECJxxyBfOgS"
      }
    },
    {
      "cell_type": "code",
      "source": [
        "class ThreeLayerGAT(torch.nn.Module):\n",
        "    def __init__(self, in_dim, hidden_dim, out_dim, num_heads):\n",
        "        super(ThreeLayerGAT, self).__init__()\n",
        "        self.conv1 = GATConv(in_dim, hidden_dim, heads=num_heads)\n",
        "        self.conv2 = GATConv(hidden_dim * num_heads, hidden_dim, heads=num_heads)\n",
        "        self.conv3 = GATConv(hidden_dim * num_heads, out_dim, concat=False)\n",
        "\n",
        "    def forward(self, data):\n",
        "        x, edge_index = data.x, data.edge_index\n",
        "        x = F.elu(self.conv1(x, edge_index))\n",
        "        x = F.elu(self.conv2(x, edge_index))\n",
        "        x = self.conv3(x, edge_index)\n",
        "        return F.log_softmax(x, dim=1)\n"
      ],
      "metadata": {
        "id": "svz6hCPxUWHQ"
      },
      "execution_count": null,
      "outputs": []
    },
    {
      "cell_type": "markdown",
      "source": [
        "# Graph Convolution Network (GCN):"
      ],
      "metadata": {
        "id": "XiMPWGDcfVui"
      }
    },
    {
      "cell_type": "code",
      "source": [
        "class GCNModel(torch.nn.Module):\n",
        "    def __init__(self, in_dim, hidden_dim, out_dim):\n",
        "        super(GCNModel, self).__init__()\n",
        "        self.conv1 = GCNConv(in_dim, hidden_dim)\n",
        "        self.conv2 = GCNConv(hidden_dim, out_dim)\n",
        "\n",
        "    def forward(self, data):\n",
        "        x, edge_index = data.x, data.edge_index\n",
        "        x = F.relu(self.conv1(x, edge_index))\n",
        "        x = self.conv2(x, edge_index)\n",
        "        return F.log_softmax(x, dim=1)\n"
      ],
      "metadata": {
        "id": "4V4gm2qwfYjz"
      },
      "execution_count": null,
      "outputs": []
    },
    {
      "cell_type": "markdown",
      "source": [
        "# Chebyshev Spectral CNN (ChebNet):"
      ],
      "metadata": {
        "id": "HTiVsiZrfae4"
      }
    },
    {
      "cell_type": "code",
      "source": [
        "from torch_geometric.nn import ChebConv\n",
        "\n",
        "class ChebNet(torch.nn.Module):\n",
        "    def __init__(self, in_dim, hidden_dim, out_dim, K):\n",
        "        super(ChebNet, self).__init__()\n",
        "        self.conv1 = ChebConv(in_dim, hidden_dim, K)\n",
        "        self.conv2 = ChebConv(hidden_dim, out_dim, K)\n",
        "\n",
        "    def forward(self, data):\n",
        "        x, edge_index = data.x, data.edge_index\n",
        "        x = F.relu(self.conv1(x, edge_index))\n",
        "        x = self.conv2(x, edge_index)\n",
        "        return F.log_softmax(x, dim=1)\n"
      ],
      "metadata": {
        "id": "gHrHGVUufckE"
      },
      "execution_count": null,
      "outputs": []
    }
  ]
}